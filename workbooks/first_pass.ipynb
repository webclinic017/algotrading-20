# %% codecell
# Standard Imports
import os
import sys
from pathlib import Path
import importlib
from datetime import datetime, date, timedelta

# External Libraries
import pandas as pd
import numpy as np
from scipy.signal import argrelextrema
import matplotlib.pyplot as plt

# Directory scripts
from studies.bu_candles import buCandles, bu_prints
from studies.be_candles import beCandles, be_prints
from studies.moving_averages import movingAverages
from studies.studies import regStudies
from studies.drawings import makeDrawings
from file_storage import fileOps
import pandas_ta as ta

# Enable automatic reloading on file change
importlib.reload(sys.modules['studies.bu_candles'])
importlib.reload(sys.modules['studies.be_candles'])
importlib.reload(sys.modules['studies.moving_averages'])
importlib.reload(sys.modules['studies.studies'])
importlib.reload(sys.modules['file_storage'])

# Directory scripts
from bu_candles import buCandles, bu_prints
from be_candles import beCandles, be_prints
from moving_averages import movingAverages
from studies import regStudies
from drawings import makeDrawings
from file_storage import fileOps

# Display max 50 columns
pd.set_option('display.max_columns', None)
# Display maximum rows
pd.set_option('display.max_rows', None)

# %% codecell
# Get current working directory and go one level up
symbols = ['AAPL', 'AMZN']
years = 6

df, current = fileOps.read_from_json(symbols, years)

# %% codecell
###############################################################################
syms = {}  # Create an empty dict to store df results

for sym in df['symbol'].value_counts().index.values:
    syms[sym] = df.loc[df['symbol'] == sym].copy(deep=True)
    syms[sym].loc[:, 'rsi'] = syms[sym].ta.rsi(length=14)
    # syms[sym].loc[:, 'macd'] = syms[sym].ta.macd(fast=26, slow=)
    ma_obj = movingAverages(syms[sym])
    syms[sym] = movingAverages.return_df(ma_obj)
    cma_crossovers, cma_differences = movingAverages.return_cma(ma_obj)
    syms[sym] = regStudies.return_df(regStudies(syms[sym]))


# %% codecell
##############################################################################

syms[sym].loc[:, 'macd'] = ta.momentum.macd(syms[sym]['fClose'], fast=12, slow=26, signal=9, offset=None)

syms[sym].loc[:, 'macd'] = ta.overlap.fwma(syms[sym]['fClose'])


syms[sym].loc[:, 'ad'] = ta.volume.ad(low=syms[sym]['fLow'],
                                      close=syms[sym]['fClose'],
                                      high=syms[sym]['fHigh'],
                                      open=syms[sym]['fOpen'],
                                      volume=syms[sym]['volume'])

syms[sym].loc[:, 'obv'] = ta.volume.obv(low=syms[sym]['fLow'],
                                      close=syms[sym]['fClose'],
                                      high=syms[sym]['fHigh'],
                                      open=syms[sym]['fOpen'],
                                      volume=syms[sym]['volume'])
# %% codecell

fig = plt.figure()
ax1 = fig.add_subplot(211)

ax2 = fig.add_subplot(212)

syms[sym].plot(ax=ax1, x='date', y='fClose', figsize=(20, 15))

syms[sym].plot(ax=ax2, x='date', y=['ad', 'obv'])
ax1.legend()
ax2.legend()

# %% codecell

# syms[sym]['obv'].value_counts()

# syms[sym]['macd'].value_counts()


# %% codecell
###############################################################################
# df['rsi'] = 0
syms[sym][syms[sym]['rsi'] > 70 ]

# %% codecell
###############################################################################
for sym in symbols:
    print(syms[sym].head(10))
# %% codecell
###############################################################################


# %% codecell
###############################################################################
def class_functions(df, symbols):
    for sym in symbols:
        ma_obj = movingAverages(df[df['symbol'] == sym])
        df = movingAverages.return_df(ma_obj)
        cma_crossovers, cma_differences = movingAverages.return_cma(ma_obj)
        df = regStudies.return_df(regStudies(df[df['symbol'] == sym]))

    return df

df = class_functions(df, symbols)
# %% codecell
bu_prints(df)
# %% codecell
be_prints(df)
# %% codecell
df = makeDrawings.return_df(makeDrawings(df))
# %% codecell
df.head(5)
# %% codecell

# %% codecell
############################################################################
base_dir = f"{Path(os.getcwd()).parents[0]}/data/"
StockEOD = os.path.join(base_dir, 'StockEOD')
year_path = glob(f"{StockEOD}/*")

for y in year_path:
    for s in string.ascii_lowercase:
        print(y, s)
        os.system('sudo os.mkdir(os.path.join(y, f"/{s}"))')

# %% codecell
############################################################################
# Create list of column names to use
cols = ['fClose', 'fOpen', 'fHigh', 'fLow']

# Created rounded plevels to .x decimals.
for col in cols:
    df_aapl[f"{col}_round"] = df_aapl[col].round(1)

df_aapl['localMin_r5'] = df_aapl['localMin_5'].round(1)
df_aapl['localMax_r5'] = df_aapl['localMax_5'].round(1)
# %% codecell
############################################################################
#  Support/Resistance Levels

#  This entire section needs work. Ideally, an approach to any significant
#  sr levels will alert the user. Could use +/- 1.5% of the sr level to show
#  the most important sr levels that the stock is approaching.
#  1. Ranked sr levels within 1-1.5% +/- in either direction
#  2. Conditional logic based on breach of sr levels
#     - If stock x low is within bin, and next day close >, do this
############################################################################


# %% codecell
############################################################################

syms[sym].head(10)


# %% codecell
############################################################################

# How many bins to group data in. 500 ~ .2% of full range. 1000 ~ .1%.
# This is of course biased because the range == > significance at < plevels
n_bins = 250
df_sr_bins = pd.DataFrame()
# Create bins from lowest price: highest price, with the number of bins
df_sr_bins['bins'] = np.linspace(
    df_aapl['fLow_round'].min(), df_aapl['fHigh_round'].max(), n_bins
)
# New col with the high range of bin for visual comparison
df_sr_bins['bin_high'] = df_sr_bins['bins'].shift(-1)

df_sr_bins['bin_mid'] = round(((df_sr_bins['bins'] + df_sr_bins['bin_high']) / 2), 2)

# For each column
for col in cols:
    df_sr_bins[f"{col}_count"] = df_aapl.groupby(pd.cut(df_aapl[f"{col}_round"], bins=df_sr_bins['bins'])).size()

# Assumption that support is app. by the number of opens/lows
df_sr_bins['support'] = df_sr_bins['fOpen_count'] + df_sr_bins['fLow_count']
# Assumption that resistance is app. by the number of closes/highs
df_sr_bins['resistance'] = df_sr_bins['fClose_count'] + df_sr_bins['fHigh_count']

# Assumption for highs/lows makes more sense than open/closes.
# SR captures the total number of touch points within the bin ranges

df_sr_bins['open_close'] = df_sr_bins['fOpen_count'] + df_sr_bins['fClose_count']

# Add counts for fOpen, fClose, fHigh, fLow. SR == 'Support/Resistance'
df_sr_bins['sr'] = df_sr_bins[[f"{col}_count" for col in cols]].sum(axis=1)


# %% codecell
scale = (df_aapl.fClose.max() - df_aapl.fClose.min()) / len(df_aapl)
print(scale)
# %% codecell

# %% codecell
xlist = [5, 10, 20, 50, 200]

localMin_counts = df_aapl['localMin_r5'].value_counts().sort_index()
localMin_counts
# %% codecell
localMax_counts = df_aapl['localMax_r5'].value_counts()
localMax_counts
# %% codecell
df_sr_bins.nlargest(50, 'open_close')['bin_mid']
# %% codecell
df_aapl_di.head(5)
# %% codecell
################################################################################
df_to_use.head(5)

# %% codecell
##################################################################################
years_to_use = 2
current_year = datetime.today().year
years_list = np.sort(list(range(current_year, current_year - years_to_use, -1)))
df_to_use = syms[sym].loc[syms[sym]['year'].isin(years_list)].copy(deep=True)

df_to_use['year'].value_counts()
# .copy(deep=True)


# Dataframe with date as the index
df_di = df_to_use.set_index('date')

for cma_name in cma_crossovers:
    df_di[cma_name].replace(0, np.nan, inplace=True)

# %% codecell

# %% codecell


# Crossover scheme progression
color_prog = ["#cc473b", "#c7573b", "#bf6a3c", "#b47d3c", "#ab8a3c", "#a7903c"]

# Moving average list
ma_list = [10, 20, 50, 200]

"""
for val in df_sr_bins.nlargest(50, 'open_close')['bin_mid']:
    df_aapl_di[f"oc_{val}"] = val
"""
# Replace 1 with closing price
for cma_name in cma_crossovers:
    df_di[cma_name] = np.where(
        df_di[cma_name] == 1,
        df_di['fClose'], np.nan
    )

# Replace 0 with nans
#for cma_name in cma_crossovers:
#    df_aapl_di[cma_name].replace(0, np.nan, inplace=True)

fig = plt.figure()
ax1 = fig.add_subplot(411)


df_di['fClose'].plot(ax=ax1, color='black', figsize=(17, 35))

df_di['cma_10'].plot(ax=ax1, color='orange')
df_di['cma_20'].plot(ax=ax1, color='#4287f5')
df_di['cma_50'].plot(ax=ax1, color='red')
df_di['cma_200'].plot(ax=ax1, color='#91e0fa')

for cma_name, color in zip(cma_crossovers, color_prog):
    df_di[cma_name].plot(ax=ax1, color=color, marker='x')

ax2 = fig.add_subplot(412)

"""
df_di['fClose'].plot(ax=ax2, figsize=(16, 35))
df_di['localMin_5'].plot(ax=ax2, marker='^')
df_di['localMin_10'].plot(ax=ax2, marker='^')
df_di['localMax_10'].plot(ax=ax2, marker='v')
df_di['localMin_20'].plot(ax=ax2, marker='^')
df_di['localMax_20'].plot(ax=ax2, marker='v')
df_di['localMin_50'].plot(ax=ax2, marker='^')
df_di['localMax_50'].plot(ax=ax2, marker='v')

for val in df_sr_bins.nlargest(50, 'open_close')['bin_mid']:
    df_di[f"oc_{val}"].plot(ax=ax2, marker='_', color='red')
"""
ax3 = fig.add_subplot(413)
df_di['volume'].plot(ax=ax3)
df_di['rsi'].plot(ax=ax3, secondary_y=True, ylabel='RSI_14_days')

ax4 = fig.add_subplot(414)
df_di['A/D_cum'].plot(ax=ax4)
df_di['OBV_test'].plot(ax=ax4)

ax1.legend()
# ax2.legend()
ax3.legend()
ax4.legend()
# %% codecell
